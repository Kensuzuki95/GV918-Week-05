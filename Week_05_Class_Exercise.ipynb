{
  "nbformat": 4,
  "nbformat_minor": 0,
  "metadata": {
    "colab": {
      "name": "Week 05 Class Exercise.ipynb",
      "provenance": [],
      "collapsed_sections": [],
      "toc_visible": true
    },
    "kernelspec": {
      "name": "python3",
      "display_name": "Python 3"
    }
  },
  "cells": [
    {
      "cell_type": "markdown",
      "metadata": {
        "id": "zYZzWQ0GG1t1"
      },
      "source": [
        "# Description\n",
        "\n",
        "In this exercise, we will visualize the UK Constituency data we used in the previous week. continue the analysis of UK Political Data. \n"
      ]
    },
    {
      "cell_type": "markdown",
      "metadata": {
        "id": "yDSMvqBtf1p8"
      },
      "source": [
        "# Clone a data repository\n",
        "\n",
        "As we will use the data for several weeks, I decided to create a separate repository for the data. We can clone the reposiotory to Colab working directory to start working on the data.\n",
        "\n",
        "For this week, I added parliamentary constituency shape file, downloaded from here:\n",
        "\n",
        "https://geoportal.statistics.gov.uk/datasets/5ce27b980ffb43c39b012c2ebeab92c0_2\n"
      ]
    },
    {
      "cell_type": "code",
      "metadata": {
        "id": "VPyuaghcgKI4",
        "outputId": "4cce11b9-44bb-4cf6-8ce8-4921ae0227a5",
        "colab": {
          "base_uri": "https://localhost:8080/"
        }
      },
      "source": [
        "!git clone  https://github.com/University-of-Essex-Dept-of-Government/GV918-UK-politics-data"
      ],
      "execution_count": 1,
      "outputs": [
        {
          "output_type": "stream",
          "text": [
            "Cloning into 'GV918-UK-politics-data'...\n",
            "remote: Enumerating objects: 16, done.\u001b[K\n",
            "remote: Counting objects: 100% (16/16), done.\u001b[K\n",
            "remote: Compressing objects: 100% (15/15), done.\u001b[K\n",
            "remote: Total 16 (delta 1), reused 0 (delta 0), pack-reused 0\u001b[K\n",
            "Unpacking objects: 100% (16/16), done.\n"
          ],
          "name": "stdout"
        }
      ]
    },
    {
      "cell_type": "markdown",
      "metadata": {
        "id": "-H_ykAv9XnhS"
      },
      "source": [
        "# Load packages"
      ]
    },
    {
      "cell_type": "code",
      "metadata": {
        "id": "BNnah5uCH2PQ"
      },
      "source": [
        "import pandas as pd\n",
        "import numpy as np\n",
        "import matplotlib.pyplot as plt\n",
        "import seaborn as sns\n",
        "\n",
        "sns.set_style('whitegrid')"
      ],
      "execution_count": 2,
      "outputs": []
    },
    {
      "cell_type": "code",
      "metadata": {
        "id": "Si_JxptMkz9O",
        "outputId": "501d90eb-21fc-4aea-f07c-03a446133d05",
        "colab": {
          "base_uri": "https://localhost:8080/"
        }
      },
      "source": [
        "from google.colab import drive\n",
        "drive.mount('/content/drive')"
      ],
      "execution_count": 5,
      "outputs": [
        {
          "output_type": "stream",
          "text": [
            "Mounted at /content/drive\n"
          ],
          "name": "stdout"
        }
      ]
    },
    {
      "cell_type": "markdown",
      "metadata": {
        "id": "UxZZK0qlH2nA"
      },
      "source": [
        "## Rerun the code from the last week"
      ]
    },
    {
      "cell_type": "code",
      "metadata": {
        "id": "xK3OoYQjI5eB",
        "outputId": "675ce0b6-7d85-4973-bef4-5c90eb5a9410",
        "colab": {
          "base_uri": "https://localhost:8080/",
          "height": 235
        }
      },
      "source": [
        "\n",
        "df_elec = pd.read_excel(\"/content/GV918-UK-politics-data/Data/general-election-results-2019.xlsx\", sheet_name = 'voting-summary')\n",
        "\n",
        "df_brexit = pd.read_csv(\"/content/GV918-UK-politics-data/Data/brexit-vote.csv\")\n",
        "\n",
        "df_brexit.rename({'PCON11CD':'ons_id'}, axis = 1, inplace=True)\n",
        "\n",
        "\"\"\"## Select columns\"\"\"\n",
        "\n",
        "df_brexit.rename({'Figure to use':'leave_pct'}, axis = 1, inplace=True)\n",
        "\n",
        "df_brexit_sub = df_brexit[['ons_id', 'leave_pct']]\n",
        "\n",
        "df_elec['con_pct'] = df_elec['con'] / df_elec['valid_votes']\n",
        "df_elec['lab_pct'] = df_elec['lab'] / df_elec['valid_votes']\n",
        "\n",
        "df_elec.head()\n",
        "\n",
        "\"\"\"# Unemployment data\"\"\"\n",
        "# use \"left\" merge\n",
        "\n",
        "df_merge = df_elec.merge(df_brexit_sub, how='left', on = \"ons_id\")\n",
        "df_unemp = pd.read_excel('/content/GV918-UK-politics-data/Data/Unemployment.xlsx', sheet_name = \"Data\")\n",
        "df_unemp_sub = df_unemp[df_unemp['DateOfDataset'] == '2019-11-01'][['ONSConstID', 'UnempConstRate']]\n",
        "df_merge = df_merge.merge(df_unemp_sub, left_on = 'ons_id', right_on = 'ONSConstID')\n",
        "\n",
        "\"\"\"# Housing price dataset\"\"\"\n",
        "\n",
        "df_housing = pd.read_excel(\"/content/GV918-UK-politics-data/Data/House-prices.xlsx\", \n",
        "                           sheet_name=\"Constituency data table\")\n",
        "\n",
        "df_housing['ConstPercentChangeOneYr'] = pd.to_numeric(df_housing['ConstPercentChangeOneYr'],\n",
        "                                                                 errors='coerce')\n",
        "df_housing_sub = df_housing[['ONSConstID', 'ConstPercentChangeOneYr']][df_housing['DateOfDataset'] == '2019-09-01']\n",
        "df_merge = df_merge.merge(df_housing_sub, left_on=\"ons_id\", right_on = \"ONSConstID\")\n",
        "\n",
        "df_merge.head()\n",
        "\n",
        "\"\"\"## Population dataset\"\"\"\n",
        "\n",
        "df_pop = pd.read_excel(\"/content/GV918-UK-politics-data/Data/population-by-age.xlsx\", \n",
        "                       sheet_name = 'Age by year data')\n",
        "df_pop_sub = df_pop[df_pop['Age_year'] >= 65]\n",
        "df_elderly = df_pop_sub[['PCON11CD', 'Age_percent']].groupby('PCON11CD').sum().reset_index()\n",
        "df_merge = df_merge.merge(df_elderly, left_on = 'ons_id', right_on = 'PCON11CD')\n",
        "\n",
        "df_merge.loc[:, ['con_pct', 'lab_pct','leave_pct', 'Age_percent', 'ConstPercentChangeOneYr', 'UnempConstRate']].corr()\n"
      ],
      "execution_count": 4,
      "outputs": [
        {
          "output_type": "execute_result",
          "data": {
            "text/html": [
              "<div>\n",
              "<style scoped>\n",
              "    .dataframe tbody tr th:only-of-type {\n",
              "        vertical-align: middle;\n",
              "    }\n",
              "\n",
              "    .dataframe tbody tr th {\n",
              "        vertical-align: top;\n",
              "    }\n",
              "\n",
              "    .dataframe thead th {\n",
              "        text-align: right;\n",
              "    }\n",
              "</style>\n",
              "<table border=\"1\" class=\"dataframe\">\n",
              "  <thead>\n",
              "    <tr style=\"text-align: right;\">\n",
              "      <th></th>\n",
              "      <th>con_pct</th>\n",
              "      <th>lab_pct</th>\n",
              "      <th>leave_pct</th>\n",
              "      <th>Age_percent</th>\n",
              "      <th>ConstPercentChangeOneYr</th>\n",
              "      <th>UnempConstRate</th>\n",
              "    </tr>\n",
              "  </thead>\n",
              "  <tbody>\n",
              "    <tr>\n",
              "      <th>con_pct</th>\n",
              "      <td>1.000000</td>\n",
              "      <td>-0.411415</td>\n",
              "      <td>0.595458</td>\n",
              "      <td>0.564467</td>\n",
              "      <td>-0.060931</td>\n",
              "      <td>-0.414482</td>\n",
              "    </tr>\n",
              "    <tr>\n",
              "      <th>lab_pct</th>\n",
              "      <td>-0.411415</td>\n",
              "      <td>1.000000</td>\n",
              "      <td>-0.150890</td>\n",
              "      <td>-0.593286</td>\n",
              "      <td>0.137952</td>\n",
              "      <td>0.568125</td>\n",
              "    </tr>\n",
              "    <tr>\n",
              "      <th>leave_pct</th>\n",
              "      <td>0.595458</td>\n",
              "      <td>-0.150890</td>\n",
              "      <td>1.000000</td>\n",
              "      <td>0.393101</td>\n",
              "      <td>0.167908</td>\n",
              "      <td>0.168809</td>\n",
              "    </tr>\n",
              "    <tr>\n",
              "      <th>Age_percent</th>\n",
              "      <td>0.564467</td>\n",
              "      <td>-0.593286</td>\n",
              "      <td>0.393101</td>\n",
              "      <td>1.000000</td>\n",
              "      <td>0.021177</td>\n",
              "      <td>-0.379418</td>\n",
              "    </tr>\n",
              "    <tr>\n",
              "      <th>ConstPercentChangeOneYr</th>\n",
              "      <td>-0.060931</td>\n",
              "      <td>0.137952</td>\n",
              "      <td>0.167908</td>\n",
              "      <td>0.021177</td>\n",
              "      <td>1.000000</td>\n",
              "      <td>0.189798</td>\n",
              "    </tr>\n",
              "    <tr>\n",
              "      <th>UnempConstRate</th>\n",
              "      <td>-0.414482</td>\n",
              "      <td>0.568125</td>\n",
              "      <td>0.168809</td>\n",
              "      <td>-0.379418</td>\n",
              "      <td>0.189798</td>\n",
              "      <td>1.000000</td>\n",
              "    </tr>\n",
              "  </tbody>\n",
              "</table>\n",
              "</div>"
            ],
            "text/plain": [
              "                          con_pct  ...  UnempConstRate\n",
              "con_pct                  1.000000  ...       -0.414482\n",
              "lab_pct                 -0.411415  ...        0.568125\n",
              "leave_pct                0.595458  ...        0.168809\n",
              "Age_percent              0.564467  ...       -0.379418\n",
              "ConstPercentChangeOneYr -0.060931  ...        0.189798\n",
              "UnempConstRate          -0.414482  ...        1.000000\n",
              "\n",
              "[6 rows x 6 columns]"
            ]
          },
          "metadata": {
            "tags": []
          },
          "execution_count": 4
        }
      ]
    },
    {
      "cell_type": "code",
      "metadata": {
        "id": "QGTom0iFqIol",
        "outputId": "87f09f08-ccb8-4c28-8f1f-8d27e42fdc45",
        "colab": {
          "base_uri": "https://localhost:8080/"
        }
      },
      "source": [
        "df_merge.shape"
      ],
      "execution_count": 6,
      "outputs": [
        {
          "output_type": "execute_result",
          "data": {
            "text/plain": [
              "(650, 48)"
            ]
          },
          "metadata": {
            "tags": []
          },
          "execution_count": 6
        }
      ]
    },
    {
      "cell_type": "markdown",
      "metadata": {
        "id": "hZ4584uuKTOo"
      },
      "source": [
        "# Basic visualisation"
      ]
    },
    {
      "cell_type": "markdown",
      "metadata": {
        "id": "tmjiEjL85Uqa"
      },
      "source": [
        "## Distribution conservative vote percentage, leave vote"
      ]
    },
    {
      "cell_type": "code",
      "metadata": {
        "id": "ER4ov1UeyqiS"
      },
      "source": [
        ""
      ],
      "execution_count": null,
      "outputs": []
    },
    {
      "cell_type": "markdown",
      "metadata": {
        "id": "8Yff1hub5-Ze"
      },
      "source": [
        "## Scatter plot"
      ]
    },
    {
      "cell_type": "markdown",
      "metadata": {
        "id": "5Nil1CQWfpF-"
      },
      "source": [
        "### conservative vote against leave vote"
      ]
    },
    {
      "cell_type": "code",
      "metadata": {
        "id": "xL_27kBy2ZN4"
      },
      "source": [
        ""
      ],
      "execution_count": null,
      "outputs": []
    },
    {
      "cell_type": "markdown",
      "metadata": {
        "id": "XGxLsTXFfxrB"
      },
      "source": [
        "### conservative vote against leave vote, by country"
      ]
    },
    {
      "cell_type": "code",
      "metadata": {
        "id": "RkunwiPM2asq"
      },
      "source": [
        ""
      ],
      "execution_count": null,
      "outputs": []
    },
    {
      "cell_type": "markdown",
      "metadata": {
        "id": "tXUYFl0x6zQ2"
      },
      "source": [
        "## Do similar with joint plot"
      ]
    },
    {
      "cell_type": "code",
      "metadata": {
        "id": "qqWms_jH2cfw"
      },
      "source": [
        ""
      ],
      "execution_count": null,
      "outputs": []
    },
    {
      "cell_type": "markdown",
      "metadata": {
        "id": "2iavLujI7HPj"
      },
      "source": [
        "### Subset the data with england, and plot by region"
      ]
    },
    {
      "cell_type": "code",
      "metadata": {
        "id": "XIEY0kJ02fCs"
      },
      "source": [
        ""
      ],
      "execution_count": null,
      "outputs": []
    },
    {
      "cell_type": "markdown",
      "metadata": {
        "id": "pGv6w0KWgUUx"
      },
      "source": [
        "### Use only London"
      ]
    },
    {
      "cell_type": "code",
      "metadata": {
        "id": "Zch-RKhF7s5A"
      },
      "source": [
        ""
      ],
      "execution_count": null,
      "outputs": []
    },
    {
      "cell_type": "markdown",
      "metadata": {
        "id": "yqR6SUkO8kAi"
      },
      "source": [
        "## Box and Violin"
      ]
    },
    {
      "cell_type": "markdown",
      "metadata": {
        "id": "DfT4xbG3ggzq"
      },
      "source": [
        "### Unemployment across regions"
      ]
    },
    {
      "cell_type": "code",
      "metadata": {
        "id": "YkbUkfqu2hvg"
      },
      "source": [
        ""
      ],
      "execution_count": null,
      "outputs": []
    },
    {
      "cell_type": "markdown",
      "metadata": {
        "id": "yYKOY5uKg462"
      },
      "source": [
        "### Leave vote across regions"
      ]
    },
    {
      "cell_type": "code",
      "metadata": {
        "id": "74wb-PWA2j1O"
      },
      "source": [
        ""
      ],
      "execution_count": null,
      "outputs": []
    },
    {
      "cell_type": "markdown",
      "metadata": {
        "id": "YfLpZipH7912"
      },
      "source": [
        "## Pairplot"
      ]
    },
    {
      "cell_type": "code",
      "metadata": {
        "id": "NBqBhlIH2la9"
      },
      "source": [
        ""
      ],
      "execution_count": null,
      "outputs": []
    },
    {
      "cell_type": "markdown",
      "metadata": {
        "id": "x2WHbDQsab_k"
      },
      "source": [
        "# Heatmap\n",
        "\n",
        "Heatmat is one of the good tool for telling a story with data. \n",
        "\n",
        "For example, the figure, included in the slides used by the scientific advisor at the press conference for second lockdown announcement, conveys a rich information about the general tendency across the regions and age groups (see page 5).\n",
        "\n",
        "https://assets.publishing.service.gov.uk/government/uploads/system/uploads/attachment_data/file/931774/Slides_to_accompany_coronavirus_press_conference-_CMO-_31_October_2020.pdf\n",
        "\n",
        "We will create a simple heatmap from the correlation table:"
      ]
    },
    {
      "cell_type": "code",
      "metadata": {
        "id": "YqkmeJasbfzJ"
      },
      "source": [
        "tab_cor = df_merge.loc[:, ['con_pct', 'lab_pct','leave_pct', 'Age_percent', 'ConstPercentChangeOneYr', 'UnempConstRate']].corr()\n",
        "tab_cor"
      ],
      "execution_count": null,
      "outputs": []
    },
    {
      "cell_type": "markdown",
      "metadata": {
        "id": "vRIS6aYCet5v"
      },
      "source": [
        "# Plotting the values on the map\n",
        "\n",
        "Here, we will see how to create a figure using a map. Whether you can craete a map figure largely depends on the availability of shapfiles, which describes the shapes of polygons for the geographical boudaries. Once you find the file, it is not too complicated.\n",
        "\n",
        "First, we install a package to work with shapefiles in pandas/matplotlib."
      ]
    },
    {
      "cell_type": "markdown",
      "metadata": {
        "id": "OPAkFTpeoqpq"
      },
      "source": [
        "### Install geopandas"
      ]
    },
    {
      "cell_type": "code",
      "metadata": {
        "id": "ZPNkXeWVetc6"
      },
      "source": [
        "!pip install geopandas"
      ],
      "execution_count": null,
      "outputs": []
    },
    {
      "cell_type": "code",
      "metadata": {
        "id": "dgtU4d5mgg5G"
      },
      "source": [
        "import geopandas as gpd"
      ],
      "execution_count": null,
      "outputs": []
    },
    {
      "cell_type": "markdown",
      "metadata": {
        "id": "OTTZTigCf67S"
      },
      "source": [
        "### Unzip shapefile"
      ]
    },
    {
      "cell_type": "code",
      "metadata": {
        "id": "cTdAJnHKf47-"
      },
      "source": [
        "!unzip /content/GV918-UK-politics-data/Data/Westminster_Parliamentary_Constituencies__December_2017__Boundaries_UK-shp.zip \\\n",
        " -d /content/const-shape"
      ],
      "execution_count": null,
      "outputs": []
    },
    {
      "cell_type": "code",
      "metadata": {
        "id": "1PyGjbwT4kwi"
      },
      "source": [
        "!ls /content/const-shape"
      ],
      "execution_count": null,
      "outputs": []
    },
    {
      "cell_type": "code",
      "metadata": {
        "id": "KibBCXyPoy5E"
      },
      "source": [
        ""
      ],
      "execution_count": null,
      "outputs": []
    },
    {
      "cell_type": "markdown",
      "metadata": {
        "id": "7oEWpApoozTT"
      },
      "source": [
        "### Read the shapefile"
      ]
    },
    {
      "cell_type": "code",
      "metadata": {
        "id": "rrDl_R2Gdg6p"
      },
      "source": [
        "df_map = gpd.read_file('/content/const-shape/Westminster_Parliamentary_Constituencies__December_2017__Boundaries_UK.shp')"
      ],
      "execution_count": null,
      "outputs": []
    },
    {
      "cell_type": "code",
      "metadata": {
        "id": "9C8tI_s020_J"
      },
      "source": [
        ""
      ],
      "execution_count": null,
      "outputs": []
    },
    {
      "cell_type": "markdown",
      "metadata": {
        "id": "rxV5rPIGiI8l"
      },
      "source": [
        "## Plot map"
      ]
    },
    {
      "cell_type": "code",
      "metadata": {
        "id": "eUWAW4wy23B5"
      },
      "source": [
        ""
      ],
      "execution_count": null,
      "outputs": []
    },
    {
      "cell_type": "markdown",
      "metadata": {
        "id": "Zkcqkym7ibjF"
      },
      "source": [
        "### Merge political dataset\n",
        "\n"
      ]
    },
    {
      "cell_type": "code",
      "metadata": {
        "id": "hL4NRm6224jC"
      },
      "source": [
        ""
      ],
      "execution_count": null,
      "outputs": []
    },
    {
      "cell_type": "markdown",
      "metadata": {
        "id": "c22edAbVhlED"
      },
      "source": [
        "### Two maps: UK and London Separately"
      ]
    },
    {
      "cell_type": "code",
      "metadata": {
        "id": "dyUGzF5l27j8"
      },
      "source": [
        ""
      ],
      "execution_count": null,
      "outputs": []
    },
    {
      "cell_type": "markdown",
      "metadata": {
        "id": "uvM0RiktpCr4"
      },
      "source": [
        "### Plot Leave Percentage"
      ]
    },
    {
      "cell_type": "code",
      "metadata": {
        "id": "G1MWA4yI3Ao6"
      },
      "source": [
        ""
      ],
      "execution_count": null,
      "outputs": []
    },
    {
      "cell_type": "markdown",
      "metadata": {
        "id": "0GkI30uopLg2"
      },
      "source": [
        "### Plot leave percentage (UK and London, two maps)"
      ]
    },
    {
      "cell_type": "code",
      "metadata": {
        "id": "FSZvA-iI3BiP"
      },
      "source": [
        ""
      ],
      "execution_count": null,
      "outputs": []
    },
    {
      "cell_type": "markdown",
      "metadata": {
        "id": "4lp_UPptpY1O"
      },
      "source": [
        "### Final figure"
      ]
    },
    {
      "cell_type": "code",
      "metadata": {
        "id": "ksX_81yxjyE5"
      },
      "source": [
        ""
      ],
      "execution_count": null,
      "outputs": []
    },
    {
      "cell_type": "markdown",
      "metadata": {
        "id": "tQWfYF0wjxdO"
      },
      "source": [
        "### Categorical (winning parties)"
      ]
    },
    {
      "cell_type": "code",
      "metadata": {
        "id": "4lhsr--7mfzD"
      },
      "source": [
        ""
      ],
      "execution_count": null,
      "outputs": []
    }
  ]
}